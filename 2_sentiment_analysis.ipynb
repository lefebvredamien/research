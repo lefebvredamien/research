{
 "cells": [
  {
   "cell_type": "markdown",
   "id": "temporal-elder",
   "metadata": {},
   "source": [
    "# Sentiment analysis"
   ]
  },
  {
   "cell_type": "markdown",
   "id": "valid-particular",
   "metadata": {},
   "source": [
    "In this notebook, we will train a neural network on a labeled dataset to predict the sentiment of financial news headlines."
   ]
  },
  {
   "cell_type": "code",
   "execution_count": 1,
   "id": "acknowledged-medicaid",
   "metadata": {},
   "outputs": [],
   "source": [
    "import pandas as pd\n",
    "from sklearn.model_selection import train_test_split\n",
    "from sklearn.feature_extraction.text import TfidfVectorizer\n",
    "from sklearn.neural_network import MLPRegressor\n",
    "from sklearn.pipeline import Pipeline\n",
    "from sklearn.model_selection import GridSearchCV"
   ]
  },
  {
   "cell_type": "markdown",
   "id": "capable-stephen",
   "metadata": {},
   "source": [
    "## A small custom test dataset"
   ]
  },
  {
   "cell_type": "markdown",
   "id": "secret-brighton",
   "metadata": {},
   "source": [
    "The objective is to correctly label these test cases as positive, neutral, or negative (the `real` value). We purposefully choose both simple adjectives and financial news headlines."
   ]
  },
  {
   "cell_type": "code",
   "execution_count": 2,
   "id": "sonic-india",
   "metadata": {},
   "outputs": [],
   "source": [
    "custom_sentences = [\n",
    "    {\n",
    "        \"real\": 1,\n",
    "        \"sentences\": [\n",
    "            \"good\",\n",
    "            \"great\",\n",
    "            \"amazing\",\n",
    "            \"Ad tech company PubMatic stock pops 10% in first earnings report after December IPO\",\n",
    "            \"USPS unveils next-generation mail truck with electric drivetrain option\",\n",
    "        ]\n",
    "    },\n",
    "    {\n",
    "        \"real\": 0,\n",
    "        \"sentences\": [\n",
    "            \"everyone knows\",\n",
    "            \"the subject is\",\n",
    "            \"on the other hand\",\n",
    "            \"Stock futures little changed after Tuesday's intraday comeback\",\n",
    "            \"Here's what investors should know about rocket builder Astra as it prepares to go public\",\n",
    "        ]\n",
    "    },\n",
    "    {\n",
    "        \"real\": -1,\n",
    "        \"sentences\": [\n",
    "            \"bad\",\n",
    "            \"awful\",\n",
    "            \"terrible\",\n",
    "            \"Tesla stock falls more than 10% in two days as bitcoin also tumbles: CNBC After Hours\",\n",
    "            \"Microsoft-owned LinkedIn goes down for some users\",\n",
    "        ]\n",
    "    }\n",
    "]"
   ]
  },
  {
   "cell_type": "markdown",
   "id": "instant-hammer",
   "metadata": {},
   "source": [
    "## Financial News dataset"
   ]
  },
  {
   "cell_type": "markdown",
   "id": "radio-belle",
   "metadata": {},
   "source": [
    "We'll start with a dataset that labels the sentiment of financial news headlines, from [Kaggle](https://www.kaggle.com/ankurzing/sentiment-analysis-for-financial-news). We immediately map sentiment strings to integers."
   ]
  },
  {
   "cell_type": "code",
   "execution_count": 3,
   "id": "consolidated-eating",
   "metadata": {},
   "outputs": [
    {
     "data": {
      "text/html": [
       "<div>\n",
       "<style scoped>\n",
       "    .dataframe tbody tr th:only-of-type {\n",
       "        vertical-align: middle;\n",
       "    }\n",
       "\n",
       "    .dataframe tbody tr th {\n",
       "        vertical-align: top;\n",
       "    }\n",
       "\n",
       "    .dataframe thead th {\n",
       "        text-align: right;\n",
       "    }\n",
       "</style>\n",
       "<table border=\"1\" class=\"dataframe\">\n",
       "  <thead>\n",
       "    <tr style=\"text-align: right;\">\n",
       "      <th></th>\n",
       "      <th>sentiment</th>\n",
       "      <th>headline</th>\n",
       "      <th>target</th>\n",
       "    </tr>\n",
       "  </thead>\n",
       "  <tbody>\n",
       "    <tr>\n",
       "      <th>0</th>\n",
       "      <td>neutral</td>\n",
       "      <td>According to Gran , the company has no plans t...</td>\n",
       "      <td>0</td>\n",
       "    </tr>\n",
       "    <tr>\n",
       "      <th>1</th>\n",
       "      <td>neutral</td>\n",
       "      <td>Technopolis plans to develop in stages an area...</td>\n",
       "      <td>0</td>\n",
       "    </tr>\n",
       "    <tr>\n",
       "      <th>2</th>\n",
       "      <td>negative</td>\n",
       "      <td>The international electronic industry company ...</td>\n",
       "      <td>-1</td>\n",
       "    </tr>\n",
       "    <tr>\n",
       "      <th>3</th>\n",
       "      <td>positive</td>\n",
       "      <td>With the new production plant the company woul...</td>\n",
       "      <td>1</td>\n",
       "    </tr>\n",
       "    <tr>\n",
       "      <th>4</th>\n",
       "      <td>positive</td>\n",
       "      <td>According to the company 's updated strategy f...</td>\n",
       "      <td>1</td>\n",
       "    </tr>\n",
       "  </tbody>\n",
       "</table>\n",
       "</div>"
      ],
      "text/plain": [
       "  sentiment                                           headline  target\n",
       "0   neutral  According to Gran , the company has no plans t...       0\n",
       "1   neutral  Technopolis plans to develop in stages an area...       0\n",
       "2  negative  The international electronic industry company ...      -1\n",
       "3  positive  With the new production plant the company woul...       1\n",
       "4  positive  According to the company 's updated strategy f...       1"
      ]
     },
     "execution_count": 3,
     "metadata": {},
     "output_type": "execute_result"
    }
   ],
   "source": [
    "fns = pd.read_csv(\"financial_news_sentiment.csv\", names=[\"sentiment\", \"headline\"])\n",
    "fns[\"target\"] = fns[\"sentiment\"].map(\n",
    "    {\n",
    "        \"positive\": 1,\n",
    "        \"neutral\": 0,\n",
    "        \"negative\": -1,\n",
    "    }\n",
    ")\n",
    "fns.head()"
   ]
  },
  {
   "cell_type": "markdown",
   "id": "defensive-gravity",
   "metadata": {},
   "source": [
    "We split our dataset for training and testing."
   ]
  },
  {
   "cell_type": "code",
   "execution_count": 4,
   "id": "better-parliament",
   "metadata": {},
   "outputs": [],
   "source": [
    "X_train, X_test, y_train, y_test = train_test_split(fns.headline, fns.target, test_size=0.20, random_state=1)"
   ]
  },
  {
   "cell_type": "markdown",
   "id": "imperial-strand",
   "metadata": {},
   "source": [
    "## Grid Search"
   ]
  },
  {
   "cell_type": "markdown",
   "id": "offensive-intranet",
   "metadata": {},
   "source": [
    "Our model will first use a TF-IDF Vectorizer to transform the words into features, and then a regression Multi-Layer Perceptron (MLP) to predict the sentiment.\n",
    "\n",
    "We will perform a quick grid search to optimize on some parameters. We leave those parameters to their default so that the grid search can work properly."
   ]
  },
  {
   "cell_type": "code",
   "execution_count": 5,
   "id": "consistent-browser",
   "metadata": {},
   "outputs": [],
   "source": [
    "pipeline = Pipeline([\n",
    "    ('vect', TfidfVectorizer(ngram_range=(1, 2), min_df=3, max_df=0.95)),\n",
    "    ('clf', MLPRegressor(random_state=1)),\n",
    "])"
   ]
  },
  {
   "cell_type": "markdown",
   "id": "coordinated-valuation",
   "metadata": {},
   "source": [
    "Perform a grid search to optimize the size of the hidden layers."
   ]
  },
  {
   "cell_type": "code",
   "execution_count": 6,
   "id": "distinct-census",
   "metadata": {},
   "outputs": [],
   "source": [
    "parameters = {\n",
    "    \"clf__hidden_layer_sizes\": [10, 50, 100, 150],\n",
    "}\n",
    "grid_search = GridSearchCV(\n",
    "    estimator=pipeline,\n",
    "    param_grid={\n",
    "        \"clf__hidden_layer_sizes\": [10, 50, 100, 200],\n",
    "    },\n",
    "    n_jobs=-1,\n",
    "    verbose=4\n",
    ")"
   ]
  },
  {
   "cell_type": "markdown",
   "id": "informal-anaheim",
   "metadata": {},
   "source": [
    "The search is computationally intensive, so only run on $1/4^{th}$ of the training set."
   ]
  },
  {
   "cell_type": "code",
   "execution_count": 7,
   "id": "valid-passenger",
   "metadata": {},
   "outputs": [
    {
     "name": "stdout",
     "output_type": "stream",
     "text": [
      "Fitting 5 folds for each of 4 candidates, totalling 20 fits\n",
      "CPU times: user 8.94 s, sys: 6.73 s, total: 15.7 s\n",
      "Wall time: 23.1 s\n"
     ]
    },
    {
     "data": {
      "text/plain": [
       "GridSearchCV(estimator=Pipeline(steps=[('vect',\n",
       "                                        TfidfVectorizer(max_df=0.95, min_df=3,\n",
       "                                                        ngram_range=(1, 2))),\n",
       "                                       ('clf', MLPRegressor(random_state=1))]),\n",
       "             n_jobs=-1,\n",
       "             param_grid={'clf__hidden_layer_sizes': [10, 50, 100, 150]},\n",
       "             verbose=4)"
      ]
     },
     "execution_count": 7,
     "metadata": {},
     "output_type": "execute_result"
    }
   ],
   "source": [
    "%%time\n",
    "mini_size = int(X_train.size / 4)\n",
    "X_train_small = X_train[:mini_size]\n",
    "y_train_small = y_train[:mini_size]\n",
    "_ = grid_search.fit(X_train_small, y_train_small)"
   ]
  },
  {
   "cell_type": "code",
   "execution_count": 8,
   "id": "incident-mexico",
   "metadata": {},
   "outputs": [
    {
     "data": {
      "text/plain": [
       "array([-0.06327483,  0.01133472,  0.030172  ,  0.05824465])"
      ]
     },
     "execution_count": 8,
     "metadata": {},
     "output_type": "execute_result"
    }
   ],
   "source": [
    "grid_search.cv_results_[\"mean_test_score\"]"
   ]
  },
  {
   "cell_type": "markdown",
   "id": "bibliographic-marsh",
   "metadata": {},
   "source": [
    "Unsurprisingly, the score increases with the hidden layer size."
   ]
  },
  {
   "cell_type": "markdown",
   "id": "blessed-illinois",
   "metadata": {},
   "source": [
    "## Fit and score"
   ]
  },
  {
   "cell_type": "markdown",
   "id": "stunning-bristol",
   "metadata": {},
   "source": [
    "We'll use the largest hidden layer size that our computational power can tolerate. We wrap these operations in a function so we can reuse them, overriding the model every time but saving the prediction results."
   ]
  },
  {
   "cell_type": "code",
   "execution_count": 9,
   "id": "orange-boston",
   "metadata": {},
   "outputs": [],
   "source": [
    "pipeline = Pipeline([\n",
    "    ('vect', TfidfVectorizer(ngram_range=(1, 2), min_df=3, max_df=0.95)),\n",
    "    ('clf', MLPRegressor(random_state=1, hidden_layer_sizes=100)),\n",
    "])"
   ]
  },
  {
   "cell_type": "code",
   "execution_count": 10,
   "id": "dental-assist",
   "metadata": {},
   "outputs": [],
   "source": [
    "def get_predictions(dataset):\n",
    "    X_train, X_test, y_train, y_test = train_test_split(dataset.headline, dataset.target, test_size=0.20, random_state=1)\n",
    "\n",
    "    pipeline.fit(X_train, y_train)\n",
    "    print(f\"train score: {pipeline.score(X_train, y_train):.3f}\")\n",
    "    print(f\"test score: {pipeline.score(X_test, y_test):.3f}\")\n",
    "\n",
    "    predictions = pd.DataFrame(columns=[\"real\", \"prediction\"])\n",
    "    for sentiment_group in custom_sentences:\n",
    "        for sentence in sentiment_group[\"sentences\"]:\n",
    "            predictions.loc[predictions.size] = [sentiment_group[\"real\"], pipeline.predict([sentence])[0]]\n",
    "\n",
    "    return predictions"
   ]
  },
  {
   "cell_type": "code",
   "execution_count": 11,
   "id": "elect-oregon",
   "metadata": {
    "scrolled": true
   },
   "outputs": [
    {
     "name": "stdout",
     "output_type": "stream",
     "text": [
      "train score: 0.995\n",
      "test score: 0.220\n"
     ]
    },
    {
     "data": {
      "image/png": "[encoded data removed]",
      "text/plain": [
       "<Figure size 432x288 with 1 Axes>"
      ]
     },
     "metadata": {
      "needs_background": "light"
     },
     "output_type": "display_data"
    }
   ],
   "source": [
    "fns_predictions = get_predictions(fns)\n",
    "ax = fns_predictions.plot(kind=\"bar\")"
   ]
  },
  {
   "cell_type": "markdown",
   "id": "literary-divorce",
   "metadata": {},
   "source": [
    "The positive tests are rated highly, but the negative tests are rated either above 0 or barely negative. Our model performs well on financial headlines (the last two tests in each sentiment), but not as well on simple adjectives.\n",
    "\n",
    "Perhaps we need to use a simpler dataset with no bias to finance."
   ]
  },
  {
   "cell_type": "markdown",
   "id": "elementary-feature",
   "metadata": {},
   "source": [
    "## Movie Reviews dataset"
   ]
  },
  {
   "cell_type": "markdown",
   "id": "removed-recording",
   "metadata": {},
   "source": [
    "This time we'll train the same model but on the [IMDb Reviews Dataset](https://www.kaggle.com/lakshmi25npathi/imdb-dataset-of-50k-movie-reviews)."
   ]
  },
  {
   "cell_type": "code",
   "execution_count": 12,
   "id": "blocked-lighter",
   "metadata": {},
   "outputs": [
    {
     "data": {
      "text/html": [
       "<div>\n",
       "<style scoped>\n",
       "    .dataframe tbody tr th:only-of-type {\n",
       "        vertical-align: middle;\n",
       "    }\n",
       "\n",
       "    .dataframe tbody tr th {\n",
       "        vertical-align: top;\n",
       "    }\n",
       "\n",
       "    .dataframe thead th {\n",
       "        text-align: right;\n",
       "    }\n",
       "</style>\n",
       "<table border=\"1\" class=\"dataframe\">\n",
       "  <thead>\n",
       "    <tr style=\"text-align: right;\">\n",
       "      <th></th>\n",
       "      <th>headline</th>\n",
       "      <th>sentiment</th>\n",
       "      <th>target</th>\n",
       "    </tr>\n",
       "  </thead>\n",
       "  <tbody>\n",
       "    <tr>\n",
       "      <th>0</th>\n",
       "      <td>One of the other reviewers has mentioned that ...</td>\n",
       "      <td>positive</td>\n",
       "      <td>1</td>\n",
       "    </tr>\n",
       "    <tr>\n",
       "      <th>1</th>\n",
       "      <td>A wonderful little production. &lt;br /&gt;&lt;br /&gt;The...</td>\n",
       "      <td>positive</td>\n",
       "      <td>1</td>\n",
       "    </tr>\n",
       "    <tr>\n",
       "      <th>2</th>\n",
       "      <td>I thought this was a wonderful way to spend ti...</td>\n",
       "      <td>positive</td>\n",
       "      <td>1</td>\n",
       "    </tr>\n",
       "    <tr>\n",
       "      <th>3</th>\n",
       "      <td>Basically there's a family where a little boy ...</td>\n",
       "      <td>negative</td>\n",
       "      <td>-1</td>\n",
       "    </tr>\n",
       "    <tr>\n",
       "      <th>4</th>\n",
       "      <td>Petter Mattei's \"Love in the Time of Money\" is...</td>\n",
       "      <td>positive</td>\n",
       "      <td>1</td>\n",
       "    </tr>\n",
       "  </tbody>\n",
       "</table>\n",
       "</div>"
      ],
      "text/plain": [
       "                                            headline sentiment  target\n",
       "0  One of the other reviewers has mentioned that ...  positive       1\n",
       "1  A wonderful little production. <br /><br />The...  positive       1\n",
       "2  I thought this was a wonderful way to spend ti...  positive       1\n",
       "3  Basically there's a family where a little boy ...  negative      -1\n",
       "4  Petter Mattei's \"Love in the Time of Money\" is...  positive       1"
      ]
     },
     "execution_count": 12,
     "metadata": {},
     "output_type": "execute_result"
    }
   ],
   "source": [
    "imdb = pd.read_csv(\"imdb_sentiment.csv\", names=[\"headline\", \"sentiment\"], skiprows=1)\n",
    "imdb[\"target\"] = imdb[\"sentiment\"].map(\n",
    "    {\n",
    "        \"positive\": 1,\n",
    "        \"negative\": -1,\n",
    "    }\n",
    ")\n",
    "imdb.head()"
   ]
  },
  {
   "cell_type": "markdown",
   "id": "choice-chicago",
   "metadata": {},
   "source": [
    "We'll crop the dataset because training on the additional data doesn't change the results enough to justify the extra time."
   ]
  },
  {
   "cell_type": "code",
   "execution_count": 13,
   "id": "brutal-astronomy",
   "metadata": {},
   "outputs": [
    {
     "name": "stdout",
     "output_type": "stream",
     "text": [
      "train score: 1.000\n",
      "test score: 0.406\n"
     ]
    },
    {
     "data": {
      "image/png": "[encoded data removed]",
      "text/plain": [
       "<Figure size 432x288 with 1 Axes>"
      ]
     },
     "metadata": {
      "needs_background": "light"
     },
     "output_type": "display_data"
    }
   ],
   "source": [
    "imdb_crop = 1000\n",
    "imdb_predictions = get_predictions(imdb[:imdb_crop])\n",
    "ax = imdb_predictions.plot(kind=\"bar\")"
   ]
  },
  {
   "cell_type": "markdown",
   "id": "sound-trinidad",
   "metadata": {},
   "source": [
    "As we had hoped, this model now performs well on simple adjectives. But we lost our edge on financial headlines, so we need to somehow combine both models."
   ]
  },
  {
   "cell_type": "code",
   "execution_count": 17,
   "id": "cellular-offer",
   "metadata": {},
   "outputs": [],
   "source": [
    "def get_scores(dataset):\n",
    "    X_train, X_test, y_train, y_test = train_test_split(dataset.headline, dataset.target, test_size=0.20, random_state=1)\n",
    "\n",
    "    pipeline.fit(X_train, y_train)\n",
    "    print(f\"train score: {pipeline.score(X_train, y_train):.3f}\")\n",
    "    print(f\"test score: {pipeline.score(X_test, y_test):.3f}\")"
   ]
  },
  {
   "cell_type": "markdown",
   "id": "binary-boating",
   "metadata": {},
   "source": [
    "## Train on both datasets"
   ]
  },
  {
   "cell_type": "markdown",
   "id": "blank-concept",
   "metadata": {},
   "source": [
    "Let's try fitting our model on a blend of both datasets."
   ]
  },
  {
   "cell_type": "code",
   "execution_count": 14,
   "id": "vulnerable-dakota",
   "metadata": {},
   "outputs": [
    {
     "data": {
      "text/html": [
       "<div>\n",
       "<style scoped>\n",
       "    .dataframe tbody tr th:only-of-type {\n",
       "        vertical-align: middle;\n",
       "    }\n",
       "\n",
       "    .dataframe tbody tr th {\n",
       "        vertical-align: top;\n",
       "    }\n",
       "\n",
       "    .dataframe thead th {\n",
       "        text-align: right;\n",
       "    }\n",
       "</style>\n",
       "<table border=\"1\" class=\"dataframe\">\n",
       "  <thead>\n",
       "    <tr style=\"text-align: right;\">\n",
       "      <th></th>\n",
       "      <th>headline</th>\n",
       "      <th>sentiment</th>\n",
       "      <th>target</th>\n",
       "    </tr>\n",
       "  </thead>\n",
       "  <tbody>\n",
       "    <tr>\n",
       "      <th>0</th>\n",
       "      <td>The parties have agreed to negotiate definitiv...</td>\n",
       "      <td>positive</td>\n",
       "      <td>1</td>\n",
       "    </tr>\n",
       "    <tr>\n",
       "      <th>1</th>\n",
       "      <td>Pretax profit totaled EUR 9.0 mn , down from E...</td>\n",
       "      <td>negative</td>\n",
       "      <td>-1</td>\n",
       "    </tr>\n",
       "    <tr>\n",
       "      <th>2</th>\n",
       "      <td>F-Secure reported that : - The first half of 2...</td>\n",
       "      <td>neutral</td>\n",
       "      <td>0</td>\n",
       "    </tr>\n",
       "    <tr>\n",
       "      <th>3</th>\n",
       "      <td>The cooperation will involve Arena Partners bu...</td>\n",
       "      <td>neutral</td>\n",
       "      <td>0</td>\n",
       "    </tr>\n",
       "    <tr>\n",
       "      <th>4</th>\n",
       "      <td>Our in-depth expertise extends to the fields o...</td>\n",
       "      <td>neutral</td>\n",
       "      <td>0</td>\n",
       "    </tr>\n",
       "    <tr>\n",
       "      <th>...</th>\n",
       "      <td>...</td>\n",
       "      <td>...</td>\n",
       "      <td>...</td>\n",
       "    </tr>\n",
       "    <tr>\n",
       "      <th>5841</th>\n",
       "      <td>`` This is a win for all OEMs targeting to dev...</td>\n",
       "      <td>positive</td>\n",
       "      <td>1</td>\n",
       "    </tr>\n",
       "    <tr>\n",
       "      <th>5842</th>\n",
       "      <td>President and CEO Mika Vehvil+�inen says the p...</td>\n",
       "      <td>positive</td>\n",
       "      <td>1</td>\n",
       "    </tr>\n",
       "    <tr>\n",
       "      <th>5843</th>\n",
       "      <td>I remember this film,it was the first film i h...</td>\n",
       "      <td>positive</td>\n",
       "      <td>1</td>\n",
       "    </tr>\n",
       "    <tr>\n",
       "      <th>5844</th>\n",
       "      <td>HELSINKI (Thomson Financial)- Kemira GrowHow s...</td>\n",
       "      <td>positive</td>\n",
       "      <td>1</td>\n",
       "    </tr>\n",
       "    <tr>\n",
       "      <th>5845</th>\n",
       "      <td>Finnish construction company Lemminkainen Oyj ...</td>\n",
       "      <td>neutral</td>\n",
       "      <td>0</td>\n",
       "    </tr>\n",
       "  </tbody>\n",
       "</table>\n",
       "<p>5846 rows × 3 columns</p>\n",
       "</div>"
      ],
      "text/plain": [
       "                                               headline sentiment  target\n",
       "0     The parties have agreed to negotiate definitiv...  positive       1\n",
       "1     Pretax profit totaled EUR 9.0 mn , down from E...  negative      -1\n",
       "2     F-Secure reported that : - The first half of 2...   neutral       0\n",
       "3     The cooperation will involve Arena Partners bu...   neutral       0\n",
       "4     Our in-depth expertise extends to the fields o...   neutral       0\n",
       "...                                                 ...       ...     ...\n",
       "5841  `` This is a win for all OEMs targeting to dev...  positive       1\n",
       "5842  President and CEO Mika Vehvil+�inen says the p...  positive       1\n",
       "5843  I remember this film,it was the first film i h...  positive       1\n",
       "5844  HELSINKI (Thomson Financial)- Kemira GrowHow s...  positive       1\n",
       "5845  Finnish construction company Lemminkainen Oyj ...   neutral       0\n",
       "\n",
       "[5846 rows x 3 columns]"
      ]
     },
     "execution_count": 14,
     "metadata": {},
     "output_type": "execute_result"
    }
   ],
   "source": [
    "combined = pd.concat([imdb[:imdb_crop], fns])\n",
    "combined = combined.sample(frac=1).reset_index(drop=True)\n",
    "combined"
   ]
  },
  {
   "cell_type": "code",
   "execution_count": 15,
   "id": "attempted-henry",
   "metadata": {},
   "outputs": [
    {
     "name": "stdout",
     "output_type": "stream",
     "text": [
      "train score: 0.995\n",
      "test score: 0.304\n"
     ]
    },
    {
     "data": {
      "image/png": "[encoded data removed]",
      "text/plain": [
       "<Figure size 432x288 with 1 Axes>"
      ]
     },
     "metadata": {
      "needs_background": "light"
     },
     "output_type": "display_data"
    }
   ],
   "source": [
    "combined_predictions = get_predictions(combined)\n",
    "ax = combined_predictions.plot(kind=\"bar\")"
   ]
  },
  {
   "cell_type": "markdown",
   "id": "bottom-internship",
   "metadata": {},
   "source": [
    "Better on some headlines, but we still don't have the same edge as the first model."
   ]
  },
  {
   "cell_type": "markdown",
   "id": "fancy-enough",
   "metadata": {},
   "source": [
    "## Take the average of the predictions"
   ]
  },
  {
   "cell_type": "markdown",
   "id": "activated-excerpt",
   "metadata": {},
   "source": [
    "Instead let's try keeping both models separate, but take the **average of their predictions**."
   ]
  },
  {
   "cell_type": "code",
   "execution_count": 16,
   "id": "annoying-school",
   "metadata": {},
   "outputs": [
    {
     "data": {
      "image/png": "[encoded data removed]",
      "text/plain": [
       "<Figure size 432x288 with 1 Axes>"
      ]
     },
     "metadata": {
      "needs_background": "light"
     },
     "output_type": "display_data"
    }
   ],
   "source": [
    "average_df = fns_predictions.copy()\n",
    "average_df[\"average\"] = pd.concat([fns_predictions.prediction, imdb_predictions.prediction], axis=1).mean(axis=1)\n",
    "ax = average_df.drop(\"prediction\", axis=1).plot(kind=\"bar\")"
   ]
  },
  {
   "cell_type": "markdown",
   "id": "aggregate-academy",
   "metadata": {},
   "source": [
    "Now we're doing well across the board. The predictions are still too muted on the negative side, so that's an area for further improvement."
   ]
  }
 ],
 "metadata": {
  "kernelspec": {
   "display_name": "Python 3",
   "language": "python",
   "name": "python3"
  },
  "language_info": {
   "codemirror_mode": {
    "name": "ipython",
    "version": 3
   },
   "file_extension": ".py",
   "mimetype": "text/x-python",
   "name": "python",
   "nbconvert_exporter": "python",
   "pygments_lexer": "ipython3",
   "version": "3.8.5"
  }
 },
 "nbformat": 4,
 "nbformat_minor": 5
}
